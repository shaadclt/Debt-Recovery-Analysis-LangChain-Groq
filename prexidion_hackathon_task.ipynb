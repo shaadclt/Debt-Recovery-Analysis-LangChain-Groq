{
  "nbformat": 4,
  "nbformat_minor": 0,
  "metadata": {
    "colab": {
      "provenance": []
    },
    "kernelspec": {
      "name": "python3",
      "display_name": "Python 3"
    },
    "language_info": {
      "name": "python"
    }
  },
  "cells": [
    {
      "cell_type": "code",
      "execution_count": 1,
      "metadata": {
        "colab": {
          "base_uri": "https://localhost:8080/"
        },
        "id": "TG9s-qdUc_nZ",
        "outputId": "451bd00a-9314-4892-b622-e8f409be9283"
      },
      "outputs": [
        {
          "output_type": "stream",
          "name": "stdout",
          "text": [
            "\u001b[2K     \u001b[90m━━━━━━━━━━━━━━━━━━━━━━━━━━━━━━━━━━━━━━━━\u001b[0m \u001b[32m50.4/50.4 kB\u001b[0m \u001b[31m690.1 kB/s\u001b[0m eta \u001b[36m0:00:00\u001b[0m\n",
            "\u001b[2K   \u001b[90m━━━━━━━━━━━━━━━━━━━━━━━━━━━━━━━━━━━━━━━━\u001b[0m \u001b[32m990.3/990.3 kB\u001b[0m \u001b[31m17.7 MB/s\u001b[0m eta \u001b[36m0:00:00\u001b[0m\n",
            "\u001b[2K   \u001b[90m━━━━━━━━━━━━━━━━━━━━━━━━━━━━━━━━━━━━━━━━\u001b[0m \u001b[32m374.2/374.2 kB\u001b[0m \u001b[31m17.1 MB/s\u001b[0m eta \u001b[36m0:00:00\u001b[0m\n",
            "\u001b[2K   \u001b[90m━━━━━━━━━━━━━━━━━━━━━━━━━━━━━━━━━━━━━━━━\u001b[0m \u001b[32m139.8/139.8 kB\u001b[0m \u001b[31m6.0 MB/s\u001b[0m eta \u001b[36m0:00:00\u001b[0m\n",
            "\u001b[2K   \u001b[90m━━━━━━━━━━━━━━━━━━━━━━━━━━━━━━━━━━━━━━━━\u001b[0m \u001b[32m141.1/141.1 kB\u001b[0m \u001b[31m4.0 MB/s\u001b[0m eta \u001b[36m0:00:00\u001b[0m\n",
            "\u001b[?25h"
          ]
        }
      ],
      "source": [
        "!pip install langchain -q"
      ]
    },
    {
      "cell_type": "code",
      "source": [
        "import os\n",
        "from google.colab import userdata\n",
        "\n",
        "os.environ[\"LANGCHAIN_TRACING_V2\"] = \"true\"\n",
        "os.environ[\"LANGCHAIN_API_KEY\"] = userdata.get('LANGCHAIN_API_KEY')\n",
        "os.environ[\"GROQ_API_KEY\"] = userdata.get('GROQ_API_KEY')"
      ],
      "metadata": {
        "id": "YAXf-OQadCrA"
      },
      "execution_count": 2,
      "outputs": []
    },
    {
      "cell_type": "code",
      "source": [
        "!pip install -qU langchain-groq"
      ],
      "metadata": {
        "colab": {
          "base_uri": "https://localhost:8080/"
        },
        "id": "NRJvi7s5eDT4",
        "outputId": "c5b91f40-e237-4d52-d42b-939284d64a2b"
      },
      "execution_count": 3,
      "outputs": [
        {
          "output_type": "stream",
          "name": "stdout",
          "text": [
            "\u001b[?25l   \u001b[90m━━━━━━━━━━━━━━━━━━━━━━━━━━━━━━━━━━━━━━━━\u001b[0m \u001b[32m0.0/103.5 kB\u001b[0m \u001b[31m?\u001b[0m eta \u001b[36m-:--:--\u001b[0m\r\u001b[2K   \u001b[90m━━━━━━━━━━━━━━━━━━━━━━━━━━━━━━━━━━━━━━━━\u001b[0m \u001b[32m103.5/103.5 kB\u001b[0m \u001b[31m4.6 MB/s\u001b[0m eta \u001b[36m0:00:00\u001b[0m\n",
            "\u001b[?25h\u001b[?25l   \u001b[90m━━━━━━━━━━━━━━━━━━━━━━━━━━━━━━━━━━━━━━━━\u001b[0m \u001b[32m0.0/75.6 kB\u001b[0m \u001b[31m?\u001b[0m eta \u001b[36m-:--:--\u001b[0m\r\u001b[2K   \u001b[90m━━━━━━━━━━━━━━━━━━━━━━━━━━━━━━━━━━━━━━━━\u001b[0m \u001b[32m75.6/75.6 kB\u001b[0m \u001b[31m4.2 MB/s\u001b[0m eta \u001b[36m0:00:00\u001b[0m\n",
            "\u001b[?25h\u001b[?25l   \u001b[90m━━━━━━━━━━━━━━━━━━━━━━━━━━━━━━━━━━━━━━━━\u001b[0m \u001b[32m0.0/77.9 kB\u001b[0m \u001b[31m?\u001b[0m eta \u001b[36m-:--:--\u001b[0m\r\u001b[2K   \u001b[90m━━━━━━━━━━━━━━━━━━━━━━━━━━━━━━━━━━━━━━━━\u001b[0m \u001b[32m77.9/77.9 kB\u001b[0m \u001b[31m4.4 MB/s\u001b[0m eta \u001b[36m0:00:00\u001b[0m\n",
            "\u001b[?25h\u001b[?25l   \u001b[90m━━━━━━━━━━━━━━━━━━━━━━━━━━━━━━━━━━━━━━━━\u001b[0m \u001b[32m0.0/58.3 kB\u001b[0m \u001b[31m?\u001b[0m eta \u001b[36m-:--:--\u001b[0m\r\u001b[2K   \u001b[90m━━━━━━━━━━━━━━━━━━━━━━━━━━━━━━━━━━━━━━━━\u001b[0m \u001b[32m58.3/58.3 kB\u001b[0m \u001b[31m3.2 MB/s\u001b[0m eta \u001b[36m0:00:00\u001b[0m\n",
            "\u001b[?25h"
          ]
        }
      ]
    },
    {
      "cell_type": "code",
      "source": [
        "from langchain_groq import ChatGroq\n",
        "\n",
        "model = ChatGroq(model=\"llama3-8b-8192\")"
      ],
      "metadata": {
        "id": "16im6qP8eJwF"
      },
      "execution_count": 4,
      "outputs": []
    },
    {
      "cell_type": "code",
      "source": [
        "conversation = \"\"\"\n",
        "Speaker 1: नमस्ते, मैं राजेश बोल रहा हूँ, CFI फाइनेंस कंपनी से। क्या मैं श्री सुरेश कुमार से बात कर सकता हूँ?\n",
        "Speaker 2: हाँ, मैं ही सुरेश बोल रहा हूँ। क्या बात है?\n",
        "Speaker 1: सुरेशजी, मैं आपके लोन के बारे में बात करने के लिए फोन कर रहा हूँ। आपका EMI पिछले तीन महीने से बकाया है।\n",
        "Speaker 2: अरे हाँ, मुझे पता है। लेकिन आप लोग हर रोज फोन करके परेशान कर रहे हैं। मैंने कहा था ना कि जैसे ही पैसे होंगे, मैं भर दूंगा।\n",
        "Speaker 1: देखिए सुरेशजी, हम समझते हैं आपकी परेशानी। लेकिन आप भी समझिए, यह हमारा काम है। आपको पता है कि आपके ऊपर कितना बकाया है?\n",
        "Speaker 2: हाँ-हाँ, मुझे अंदाजा है। लगभग 50,000 रुपये होंगे।\n",
        "Speaker 1: नहीं सुरेशजी, आप गलत हैं। आप पर कुल 75,000 रुपये बकाया है, जिसमें लेट फीस और ब्याज भी शामिल है।\n",
        "Speaker 2: क्या? इतने ज्यादा? यह कैसे हो सकता है? आप लोग लूट रहे हैं क्या?\n",
        "Speaker 1: देखिए सुरेशजी, गुस्सा करने से कुछ नहीं होगा। आपको समय पर पैसे जमा करने चाहिए थे। अब बताइए, कब तक आप यह राशि जमा कर सकते हैं?\n",
        "Speaker 2: अरे भाई, मेरी बात तो सुनो! मेरी माँ की तबीयत खराब है, अस्पताल में भर्ती हैं। सारे पैसे उनके इलाज में खर्च हो गए।\n",
        "Speaker 1:  सुरेशजी, मुझे आपकी परिस्थिति से कोई मतलब नहीं है। हमें बस अपना पैसा चाहिए। आप समझ रहे हैं या नहीं?\n",
        "Speaker 2: क्या बकवास कर रहे हो? तुम्हें शर्म नहीं आती? मेरी माँ मरने की कगार पर हैं और तुम पैसों की बात कर रहे हो?\n",
        "Speaker 1:  देखो सुरेश, मुझे तुम्हारी कहानियों से कोई फर्क नहीं पड़ता। तुमने लोन लिया है तो चुकाना पड़ेगा। समझे? वरना हम कानूनी कार्रवाई करेंगे।\n",
        "Speaker 2: तुम धमकी दे रहे हो? तुम्हें पता है मैं कौन हूँ? मैं तुम्हारी नौकरी गंवा सकता हूँ।\n",
        "Speaker 1:  अरे वाह! अब तुम भी धमकी दे रहे हो? चलो, देखते हैं कौन क्या कर सकता है। तुम अपनी माँ का इलाज करवाओ, मैं तुम्हारा इलाज करूँगा।\n",
        "Speaker 2: बदतमीज! तुम्हारी हिम्मत कैसे हुई ऐसे बात करने की? मैं तुम्हारे बॉस से शिकायत करूँगा।\n",
        "Speaker 1: करो जो करना है। लेकिन याद रखना, अगर कल तक पैसे नहीं आए तो मैं खुद तुम्हारे घर आऊंगा। और तब देखेंगे कौन किसका इलाज करता है।\n",
        "Speaker 2: तुम मेरे घर आओगे? ठीक है, आ जाओ। देखता हूँ कैसे आते हो। मैं पुलिस को बुला लूंगा।\n",
        "Speaker 1: अरे वाह! पुलिस? बहुत अच्छा। हम भी देखेंगे कि पुलिस किसका साथ देती है - एक कर्जदार का या एक कानूनी कंपनी का।\n",
        "Speaker 2: तुम... तुम बहुत बुरे इंसान हो। मेरी मजबूरी का फायदा उठा रहे हो।\n",
        "Speaker 1:  हाँ-हाँ, मैं बहुत बुरा हूँ। लेकिन तुमसे तो अच्छा ही हूँ। कम से कम मैं अपने वादे तो पूरे करता हूँ।\n",
        "Speaker 2: क्या मतलब? मैंने कभी वादा तोड़ा है क्या?\n",
        "Speaker 1: अरे सुरेश भाई, तुमने हर महीने EMI भरने का वादा किया था। वो क्या हुआ? भूल गए?\n",
        "Speaker 2:  देखो, मैं समझता हूँ। लेकिन अभी मेरे पास सच में पैसे नहीं हैं। क्या कोई और तरीका नहीं है?\n",
        "Speaker 1: तरीका तो है। लेकिन उसके लिए तुम्हें कुछ करना होगा।\n",
        "Speaker 2: क्या करना होगा? बताओ, मैं तैयार हूँ।\n",
        "Speaker 1: पहले तो अपनी माँ का इलाज बंद करो। उन पैसों से हमारा कर्ज चुका दो।\n",
        "Speaker 2:  क्या बकवास कर रहे हो? तुम पागल हो गए हो क्या?\n",
        "Speaker 1: अरे नहीं-नहीं, मैं तो मजाक कर रहा था। तुम तो बहुत जल्दी गुस्सा हो जाते हो।\n",
        "Speaker 2:  तुम्हें यह सब मजाक लगता है? मेरी जिंदगी बर्बाद हो रही है और तुम मजाक कर रहे हो?\n",
        "Speaker 1: अच्छा सुनो, मैं तुम्हें एक और मौका देता हूँ। कल तक 25,000 रुपये जमा कर दो। बाकी के लिए हम एक नया प्लान बना लेंगे।\n",
        "Speaker 2: 25,000? इतने पैसे कहाँ से लाऊँ मैं?\n",
        "Speaker 1: वो तुम्हारी समस्या है। चाहे दोस्तों से उधार लो, या फिर कुछ बेच दो। लेकिन कल तक पैसे चाहिए।\n",
        "Speaker 2: तुम समझ क्यों नहीं रहे हो? मेरे पास सच में पैसे नहीं हैं।\n",
        "Speaker 1: देखो सुरेश, मुझे लगता है तुम समझ नहीं रहे हो। अगर तुम कल तक पैसे नहीं देते, तो मैं तुम्हारे ऑफिस आऊंगा और सबके सामने तुम्हारी पोल खोल दूंगा।\n",
        "Speaker 2:  नहीं-नहीं, ऐसा मत करना। मेरी इज्जत का सवाल है।\n",
        "Speaker 1: तो फिर ठीक है। कल तक पैसे जमा कर दो। वरना तुम जानते हो क्या होगा।\n",
        "Speaker 2: ठीक है, मैं कोशिश करूँगा। लेकिन प्लीज, मेरे ऑफिस मत आना।\n",
        "Speaker 1: बहुत अच्छा। अब तुम समझदारी की बात कर रहे हो। याद रखना, कल शाम 5 बजे तक पैसे नहीं आए तो मैं सीधा तुम्हारे ऑफिस पहुँच जाऊंगा।\n",
        "Speaker 2: हाँ-हाँ, मैं समझ गया। मैं पूरी कोशिश करूँगा।\n",
        "Speaker 1: ठीक है। और हाँ, अगली बार जब लोन लो तो याद रखना - समय पर पैसे नहीं चुकाओगे तो ऐसे ही परेशान होना पड़ेगा।\n",
        "Speaker 2:  हाँ, मैं समझ गया। अब मैं रखता हूँ।\n",
        "Speaker 1: ठीक है। और याद रखना, कल शाम 5 बजे। एक मिनट की भी देरी हुई तो...\n",
        "Speaker 2: हाँ-हाँ, मैंने कहा ना मैं कोशिश करूँगा।\n",
        "Speaker 1: कोशिश नहीं, करना होगा। समझे? अच्छा, अब रखता हूँ। कल मिलते हैं - या तो बैंक में, या फिर तुम्हारे ऑफिस में।\n",
        "Speaker 2:  हाँ, ठीक है। नमस्ते।\n",
        "\n",
        "\"\"\""
      ],
      "metadata": {
        "id": "R5VhhENfeNXF"
      },
      "execution_count": 5,
      "outputs": []
    },
    {
      "cell_type": "code",
      "source": [
        "from langchain_core.messages import HumanMessage, SystemMessage\n",
        "\n",
        "instructions=\"\"\"\n",
        "1. Summarize the following conversation\n",
        "2. Identify key actions or next steps\n",
        "3. Undertake sentiment analysis of both the recovery agent and the borrower.\n",
        "4. Carry out named entity recognition.\n",
        "5. Check for non-compliances.\n",
        "\n",
        "Here are some non-compliance scenarios for your reference\n",
        "1. Using Threatening Language\n",
        "Example: Agent: \"If you don't pay this debt by tomorrow, we will send someone to your house to collect the money, and it won't be pleasant.\"\n",
        "2. Disclosing Debt Information to Third Parties\n",
        "Example: Agent: \"We called your workplace and spoke to your colleague about your debt situation.\"\n",
        "3. Calling Outside Permissible Hours\n",
        "Example: Agent: \"It's 10 PM, but I need to remind you again to pay your overdue amount.\"\n",
        "4. Providing False or Misleading Information\n",
        "Example: Agent: \"If you don't pay this debt immediately, you will be arrested tomorrow.\"\n",
        "5. Failing to Validate the Debt\n",
        "Example: Agent: \"You owe $1,000, and there's no need for us to provide proof. Just pay it.\"\n",
        "\"\"\"\n",
        "messages = [\n",
        "    SystemMessage(content=instructions),\n",
        "    HumanMessage(content=conversation),\n",
        "]\n",
        "\n",
        "model.invoke(messages)"
      ],
      "metadata": {
        "colab": {
          "base_uri": "https://localhost:8080/"
        },
        "id": "on5arrBmeSWn",
        "outputId": "f70211f4-233c-4a44-8e37-726a78cd0fe7"
      },
      "execution_count": 6,
      "outputs": [
        {
          "output_type": "execute_result",
          "data": {
            "text/plain": [
              "AIMessage(content=\"**Summarization:**\\nThe conversation is between Rajesh, a recovery agent from CFI Finance, and Suresh, a borrower who is struggling to pay his loan. Rajesh calls Suresh to remind him about the overdue loan amount and threatens to take legal action if the payment is not made. Suresh tries to explain his financial difficulties, including his mother's illness, but Rajesh is unsympathetic. The conversation becomes heated, with both parties using aggressive language. Rajesh demands that Suresh pay 25,000 rupees by the next day or face consequences. Suresh agrees to try to make the payment, but Rajesh warns him that he will take legal action if the payment is not made on time.\\n\\n**Key Actions/Next Steps:**\\n\\n1. Suresh is instructed to pay 25,000 rupees by the next day.\\n2. Rajesh threatens to take legal action if the payment is not made on time.\\n3. Suresh is advised to try to find a way to make the payment, possibly by borrowing from friends or selling something.\\n\\n**Sentiment Analysis:**\\nThe sentiment of the conversation is predominantly negative, with both parties using aggressive language. Rajesh comes across as unsympathetic and threatening, while Suresh is frustrated and helpless. The conversation is tense and confrontational, with neither party willing to listen to the other.\\n\\n**Named Entity Recognition:**\\nThe named entities in the conversation are:\\n\\n* Rajesh: the recovery agent from CFI Finance\\n* Suresh: the borrower who is struggling to pay his loan\\n\\n**Non-compliance Scenarios:**\\n\\n1. Threatening Language: Rajesh uses threatening language throughout the conversation, which is a non-compliance scenario.\\n2. Failing to Validate the Debt: Rajesh does not provide proof of the debt or its legitimacy, which is a non-compliance scenario.\\n3. Disclosing Debt Information to Third Parties: Rajesh threatens to take legal action and disclose Suresh's debt information to his office colleagues, which is a non-compliance scenario.\\n4. Providing False or Misleading Information: Rajesh provides false or misleading information about the debt amount and the consequences of not paying it, which is a non-compliance scenario.\\n\\nNote: The conversation may not be a real scenario, and the sentiments and actions may be exaggerated for dramatic effect.\", response_metadata={'token_usage': {'completion_tokens': 489, 'prompt_tokens': 2359, 'total_tokens': 2848, 'completion_time': 0.389377361, 'prompt_time': 0.378904149, 'queue_time': None, 'total_time': 0.76828151}, 'model_name': 'llama3-8b-8192', 'system_fingerprint': 'fp_af05557ca2', 'finish_reason': 'stop', 'logprobs': None}, id='run-18cc2b0f-1fe2-4abb-ad02-0d60c5f42790-0', usage_metadata={'input_tokens': 2359, 'output_tokens': 489, 'total_tokens': 2848})"
            ]
          },
          "metadata": {},
          "execution_count": 6
        }
      ]
    },
    {
      "cell_type": "code",
      "source": [
        "from langchain_core.output_parsers import StrOutputParser\n",
        "\n",
        "parser = StrOutputParser()"
      ],
      "metadata": {
        "id": "oRC09VjoeWq3"
      },
      "execution_count": 7,
      "outputs": []
    },
    {
      "cell_type": "code",
      "source": [
        "result = model.invoke(messages)"
      ],
      "metadata": {
        "id": "0kJcoWrSeqEW"
      },
      "execution_count": 8,
      "outputs": []
    },
    {
      "cell_type": "code",
      "source": [
        "parser.invoke(result)"
      ],
      "metadata": {
        "colab": {
          "base_uri": "https://localhost:8080/",
          "height": 209
        },
        "id": "TN0BAhsmfHqF",
        "outputId": "f748a187-2b7a-4842-80c3-08dd1c897993"
      },
      "execution_count": 9,
      "outputs": [
        {
          "output_type": "execute_result",
          "data": {
            "text/plain": [
              "'**Summary:**\\n\\nThe conversation is between a recovery agent, Rajesh, from CFI Finance, and a borrower, Suresh Kumar, who has an overdue loan. Rajesh calls Suresh to discuss the loan and informs him that he has missed the last three EMI payments. Suresh responds by expressing frustration and anger, citing personal difficulties, including his mother\\'s illness. The conversation becomes heated, with Rajesh threatening to send someone to Suresh\\'s house to collect the debt and Suresh threatening to report Rajesh to his boss and the police. The conversation ends with Rajesh giving Suresh a final deadline to pay 25,000 rupees by the next day or face consequences.\\n\\n**Key Actions/Next Steps:**\\n\\n1. Suresh needs to pay 25,000 rupees by the next day to avoid further consequences.\\n2. Suresh may need to borrow money from friends or sell something to raise the funds.\\n3. Rajesh will follow up with Suresh if the payment is not made on time.\\n\\n**Sentiment Analysis:**\\n\\n* Recovery Agent (Rajesh): The sentiment is mostly negative, with a tone of aggression, frustration, and threats.\\n* Borrower (Suresh Kumar): The sentiment is highly emotional, with a tone of anger, frustration, and desperation.\\n\\n**Named Entity Recognition:**\\n\\n* Rajesh: Recovery agent from CFI Finance\\n* Suresh Kumar: Borrower with an overdue loan\\n* CFI Finance: Company providing financial services\\n\\n**Non-compliance Scenarios:**\\n\\n1. Threatening Language: Rajesh uses threatening language, such as \"If you don\\'t pay this debt by tomorrow, we will send someone to your house to collect the money, and it won\\'t be pleasant.\"\\n2. False or Misleading Information: Rajesh provides incorrect information about the amount Suresh owes (75,000 rupees instead of 50,000 rupees).\\n3. Failing to Validate the Debt: Rajesh does not provide proof of the debt or validate the amount owed.\\n4. Disclosing Debt Information to Third Parties: Rajesh threatens to report Suresh\\'s non-payment to his boss and the police.'"
            ],
            "application/vnd.google.colaboratory.intrinsic+json": {
              "type": "string"
            }
          },
          "metadata": {},
          "execution_count": 9
        }
      ]
    }
  ]
}